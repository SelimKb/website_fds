{
 "cells": [
  {
   "cell_type": "code",
   "execution_count": 1,
   "id": "80140074",
   "metadata": {},
   "outputs": [],
   "source": [
    "import pandas as pd\n",
    "import matplotlib.pyplot as plt\n",
    "\n",
    "CLEAN_DATA_STORAGE_LOCATION = 'data/clean_data/'\n",
    "### GCP Storage - - - - - - - - - - - - - - - - - - - - - -\n",
    "BUCKET_NAME = 'football_data_scouting'"
   ]
  },
  {
   "cell_type": "code",
   "execution_count": 2,
   "id": "afd5a1b6",
   "metadata": {},
   "outputs": [],
   "source": [
    "df = pd.read_csv(f'gs://{BUCKET_NAME}/{CLEAN_DATA_STORAGE_LOCATION}players_streamlit.csv')"
   ]
  },
  {
   "cell_type": "code",
   "execution_count": 20,
   "id": "24f25127",
   "metadata": {},
   "outputs": [
    {
     "data": {
      "text/html": [
       "<div>\n",
       "<style scoped>\n",
       "    .dataframe tbody tr th:only-of-type {\n",
       "        vertical-align: middle;\n",
       "    }\n",
       "\n",
       "    .dataframe tbody tr th {\n",
       "        vertical-align: top;\n",
       "    }\n",
       "\n",
       "    .dataframe thead th {\n",
       "        text-align: right;\n",
       "    }\n",
       "</style>\n",
       "<table border=\"1\" class=\"dataframe\">\n",
       "  <thead>\n",
       "    <tr style=\"text-align: right;\">\n",
       "      <th></th>\n",
       "      <th>photo</th>\n",
       "      <th>player_name</th>\n",
       "      <th>season_year</th>\n",
       "      <th>flag</th>\n",
       "      <th>squad</th>\n",
       "      <th>new_league_name</th>\n",
       "      <th>MP</th>\n",
       "      <th>goals</th>\n",
       "      <th>assists</th>\n",
       "      <th>cards_yellow</th>\n",
       "      <th>cards_red</th>\n",
       "      <th>age</th>\n",
       "      <th>position_fifa</th>\n",
       "      <th>value</th>\n",
       "      <th>is_df</th>\n",
       "      <th>is_mf</th>\n",
       "      <th>is_fw</th>\n",
       "    </tr>\n",
       "  </thead>\n",
       "  <tbody>\n",
       "    <tr>\n",
       "      <th>0</th>\n",
       "      <td>https://cdn.sofifa.com/players/186/190/18_60.png</td>\n",
       "      <td>Patrick van Aanholt</td>\n",
       "      <td>2017-18</td>\n",
       "      <td>https://cdn.sofifa.com/flags/nl.png</td>\n",
       "      <td>Crystal Palace</td>\n",
       "      <td>English Premier League</td>\n",
       "      <td>28</td>\n",
       "      <td>5.0</td>\n",
       "      <td>1.0</td>\n",
       "      <td>7.0</td>\n",
       "      <td>0.0</td>\n",
       "      <td>26</td>\n",
       "      <td>&lt;span class=\"pos pos7\"&gt;LB</td>\n",
       "      <td>6500000.0</td>\n",
       "      <td>1.0</td>\n",
       "      <td>0.0</td>\n",
       "      <td>0.0</td>\n",
       "    </tr>\n",
       "    <tr>\n",
       "      <th>1</th>\n",
       "      <td>https://cdn.sofifa.com/players/222/513/18_60.png</td>\n",
       "      <td>Rolando Aarons</td>\n",
       "      <td>2017-18</td>\n",
       "      <td>https://cdn.sofifa.com/flags/gb-eng.png</td>\n",
       "      <td>Newcastle Utd</td>\n",
       "      <td>English Premier League</td>\n",
       "      <td>4</td>\n",
       "      <td>0.0</td>\n",
       "      <td>0.0</td>\n",
       "      <td>0.0</td>\n",
       "      <td>0.0</td>\n",
       "      <td>21</td>\n",
       "      <td>&lt;span class=\"pos pos28\"&gt;SUB</td>\n",
       "      <td>3300000.0</td>\n",
       "      <td>0.0</td>\n",
       "      <td>1.0</td>\n",
       "      <td>1.0</td>\n",
       "    </tr>\n",
       "    <tr>\n",
       "      <th>2</th>\n",
       "      <td>https://cdn.sofifa.com/players/198/076/18_60.png</td>\n",
       "      <td>Aymen Abdennour</td>\n",
       "      <td>2017-18</td>\n",
       "      <td>https://cdn.sofifa.com/flags/tn.png</td>\n",
       "      <td>Marseille</td>\n",
       "      <td>French Ligue 1</td>\n",
       "      <td>8</td>\n",
       "      <td>0.0</td>\n",
       "      <td>0.0</td>\n",
       "      <td>3.0</td>\n",
       "      <td>0.0</td>\n",
       "      <td>27</td>\n",
       "      <td>&lt;span class=\"pos pos28\"&gt;SUB</td>\n",
       "      <td>6500000.0</td>\n",
       "      <td>1.0</td>\n",
       "      <td>0.0</td>\n",
       "      <td>0.0</td>\n",
       "    </tr>\n",
       "    <tr>\n",
       "      <th>3</th>\n",
       "      <td>https://cdn.sofifa.com/players/188/600/18_60.png</td>\n",
       "      <td>Mehdi Abeid</td>\n",
       "      <td>2017-18</td>\n",
       "      <td>https://cdn.sofifa.com/flags/dz.png</td>\n",
       "      <td>Dijon</td>\n",
       "      <td>French Ligue 1</td>\n",
       "      <td>19</td>\n",
       "      <td>0.0</td>\n",
       "      <td>1.0</td>\n",
       "      <td>2.0</td>\n",
       "      <td>0.0</td>\n",
       "      <td>24</td>\n",
       "      <td>&lt;span class=\"pos pos28\"&gt;SUB</td>\n",
       "      <td>1900000.0</td>\n",
       "      <td>0.0</td>\n",
       "      <td>1.0</td>\n",
       "      <td>0.0</td>\n",
       "    </tr>\n",
       "    <tr>\n",
       "      <th>4</th>\n",
       "      <td>https://cdn.sofifa.com/players/160/741/18_60.png</td>\n",
       "      <td>David Abraham</td>\n",
       "      <td>2017-18</td>\n",
       "      <td>https://cdn.sofifa.com/flags/ar.png</td>\n",
       "      <td>Eint Frankfurt</td>\n",
       "      <td>German 1. Bundesliga</td>\n",
       "      <td>27</td>\n",
       "      <td>0.0</td>\n",
       "      <td>2.0</td>\n",
       "      <td>3.0</td>\n",
       "      <td>0.0</td>\n",
       "      <td>31</td>\n",
       "      <td>&lt;span class=\"pos pos5\"&gt;CB</td>\n",
       "      <td>9500000.0</td>\n",
       "      <td>1.0</td>\n",
       "      <td>0.0</td>\n",
       "      <td>0.0</td>\n",
       "    </tr>\n",
       "  </tbody>\n",
       "</table>\n",
       "</div>"
      ],
      "text/plain": [
       "                                              photo          player_name  \\\n",
       "0  https://cdn.sofifa.com/players/186/190/18_60.png  Patrick van Aanholt   \n",
       "1  https://cdn.sofifa.com/players/222/513/18_60.png       Rolando Aarons   \n",
       "2  https://cdn.sofifa.com/players/198/076/18_60.png      Aymen Abdennour   \n",
       "3  https://cdn.sofifa.com/players/188/600/18_60.png          Mehdi Abeid   \n",
       "4  https://cdn.sofifa.com/players/160/741/18_60.png        David Abraham   \n",
       "\n",
       "  season_year                                     flag           squad  \\\n",
       "0     2017-18      https://cdn.sofifa.com/flags/nl.png  Crystal Palace   \n",
       "1     2017-18  https://cdn.sofifa.com/flags/gb-eng.png   Newcastle Utd   \n",
       "2     2017-18      https://cdn.sofifa.com/flags/tn.png       Marseille   \n",
       "3     2017-18      https://cdn.sofifa.com/flags/dz.png           Dijon   \n",
       "4     2017-18      https://cdn.sofifa.com/flags/ar.png  Eint Frankfurt   \n",
       "\n",
       "          new_league_name  MP  goals  assists  cards_yellow  cards_red  age  \\\n",
       "0  English Premier League  28    5.0      1.0           7.0        0.0   26   \n",
       "1  English Premier League   4    0.0      0.0           0.0        0.0   21   \n",
       "2          French Ligue 1   8    0.0      0.0           3.0        0.0   27   \n",
       "3          French Ligue 1  19    0.0      1.0           2.0        0.0   24   \n",
       "4    German 1. Bundesliga  27    0.0      2.0           3.0        0.0   31   \n",
       "\n",
       "                 position_fifa      value  is_df  is_mf  is_fw  \n",
       "0    <span class=\"pos pos7\">LB  6500000.0    1.0    0.0    0.0  \n",
       "1  <span class=\"pos pos28\">SUB  3300000.0    0.0    1.0    1.0  \n",
       "2  <span class=\"pos pos28\">SUB  6500000.0    1.0    0.0    0.0  \n",
       "3  <span class=\"pos pos28\">SUB  1900000.0    0.0    1.0    0.0  \n",
       "4    <span class=\"pos pos5\">CB  9500000.0    1.0    0.0    0.0  "
      ]
     },
     "execution_count": 20,
     "metadata": {},
     "output_type": "execute_result"
    }
   ],
   "source": [
    "df.head()"
   ]
  },
  {
   "cell_type": "code",
   "execution_count": 18,
   "id": "55766d1e",
   "metadata": {},
   "outputs": [],
   "source": [
    "position_list = [\"Defender\", \"Forward\", \"Midfield\"]\n",
    "position_list.sort()"
   ]
  },
  {
   "cell_type": "code",
   "execution_count": 6,
   "id": "7068804c",
   "metadata": {},
   "outputs": [],
   "source": [
    "position = \"Defender\""
   ]
  },
  {
   "cell_type": "code",
   "execution_count": 7,
   "id": "69a05617",
   "metadata": {},
   "outputs": [],
   "source": [
    "    if position.lower() == \"defender\":\n",
    "        df_pos=df[df['is_df']==1].copy()\n",
    "    elif position.lower() ==\"forward\":\n",
    "        df_pos= df[df['is_fw'] == 1].copy()\n",
    "    elif position.lower() ==\"midfield\":\n",
    "        df_pos= df[df['is_mf'] == 1].copy()"
   ]
  },
  {
   "cell_type": "code",
   "execution_count": 14,
   "id": "b94c60a3",
   "metadata": {},
   "outputs": [],
   "source": [
    "years_list = df_pos.season_year.unique().tolist()"
   ]
  },
  {
   "cell_type": "code",
   "execution_count": 17,
   "id": "88cf9ae1",
   "metadata": {},
   "outputs": [
    {
     "data": {
      "text/plain": [
       "['2017-18', '2018-19', '2019-20', '2020-21']"
      ]
     },
     "execution_count": 17,
     "metadata": {},
     "output_type": "execute_result"
    }
   ],
   "source": [
    "sorted(years_list)"
   ]
  }
 ],
 "metadata": {
  "kernelspec": {
   "display_name": "Python 3 (ipykernel)",
   "language": "python",
   "name": "python3"
  },
  "language_info": {
   "codemirror_mode": {
    "name": "ipython",
    "version": 3
   },
   "file_extension": ".py",
   "mimetype": "text/x-python",
   "name": "python",
   "nbconvert_exporter": "python",
   "pygments_lexer": "ipython3",
   "version": "3.8.6"
  },
  "toc": {
   "base_numbering": 1,
   "nav_menu": {},
   "number_sections": true,
   "sideBar": true,
   "skip_h1_title": false,
   "title_cell": "Table of Contents",
   "title_sidebar": "Contents",
   "toc_cell": false,
   "toc_position": {},
   "toc_section_display": true,
   "toc_window_display": false
  }
 },
 "nbformat": 4,
 "nbformat_minor": 5
}
