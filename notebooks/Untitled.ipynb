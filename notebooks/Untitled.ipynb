{
 "cells": [
  {
   "cell_type": "code",
   "execution_count": 4,
   "id": "26e8ae52",
   "metadata": {
    "ExecuteTime": {
     "end_time": "2021-09-03T07:42:37.945560Z",
     "start_time": "2021-09-03T07:42:37.498833Z"
    }
   },
   "outputs": [],
   "source": [
    "import pandas as pd\n",
    "import requests\n",
    "import streamlit as st\n",
    "import io"
   ]
  },
  {
   "cell_type": "code",
   "execution_count": 2,
   "id": "ee3a76fb",
   "metadata": {
    "ExecuteTime": {
     "end_time": "2021-09-03T07:38:02.810423Z",
     "start_time": "2021-09-03T07:38:02.799736Z"
    }
   },
   "outputs": [],
   "source": [
    "from website_fds.params import BUCKET_NAME, CLEAN_DATA_STORAGE_LOCATION"
   ]
  },
  {
   "cell_type": "code",
   "execution_count": 3,
   "id": "5587029e",
   "metadata": {
    "ExecuteTime": {
     "end_time": "2021-09-03T07:42:10.991362Z",
     "start_time": "2021-09-03T07:42:08.046782Z"
    }
   },
   "outputs": [],
   "source": [
    "df = pd.read_csv(f'gs://{BUCKET_NAME}/{CLEAN_DATA_STORAGE_LOCATION}players_streamlit.csv')\n",
    "\n",
    "df_secours = pd.read_csv(\n",
    "    f'gs://{BUCKET_NAME}/{CLEAN_DATA_STORAGE_LOCATION}players_base.csv')"
   ]
  },
  {
   "cell_type": "code",
   "execution_count": null,
   "id": "88453ea3",
   "metadata": {},
   "outputs": [],
   "source": []
  }
 ],
 "metadata": {
  "kernelspec": {
   "display_name": "Python 3 (ipykernel)",
   "language": "python",
   "name": "python3"
  },
  "language_info": {
   "codemirror_mode": {
    "name": "ipython",
    "version": 3
   },
   "file_extension": ".py",
   "mimetype": "text/x-python",
   "name": "python",
   "nbconvert_exporter": "python",
   "pygments_lexer": "ipython3",
   "version": "3.8.6"
  },
  "toc": {
   "base_numbering": 1,
   "nav_menu": {},
   "number_sections": true,
   "sideBar": true,
   "skip_h1_title": false,
   "title_cell": "Table of Contents",
   "title_sidebar": "Contents",
   "toc_cell": false,
   "toc_position": {},
   "toc_section_display": true,
   "toc_window_display": false
  }
 },
 "nbformat": 4,
 "nbformat_minor": 5
}
