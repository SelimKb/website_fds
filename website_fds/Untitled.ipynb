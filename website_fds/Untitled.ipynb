{
 "cells": [
  {
   "cell_type": "code",
   "execution_count": 21,
   "id": "a35881f2",
   "metadata": {
    "ExecuteTime": {
     "end_time": "2021-09-02T10:22:11.667180Z",
     "start_time": "2021-09-02T10:22:06.276074Z"
    }
   },
   "outputs": [],
   "source": [
    "import requests\n",
    "import pandas as pd\n",
    "BUCKET_NAME = 'football_data_scouting'\n",
    "CLEAN_DATA_STORAGE_LOCATION = 'data/clean_data/'\n",
    "df = pd.read_csv(f'gs://{BUCKET_NAME}/{CLEAN_DATA_STORAGE_LOCATION}players_streamlit.csv')\n"
   ]
  },
  {
   "cell_type": "code",
   "execution_count": 44,
   "id": "c8353342",
   "metadata": {
    "ExecuteTime": {
     "end_time": "2021-09-02T10:26:41.372595Z",
     "start_time": "2021-09-02T10:26:27.163270Z"
    }
   },
   "outputs": [],
   "source": [
    "url = 'https://footballscouting-qpmhphei7q-ew.a.run.app/get_close_players'\n",
    "position = 'forward'\n",
    "player = 'Kylian Mbappé'\n",
    "year = '2018-19'\n",
    "\n",
    "params = {'position':position,'player_name':player,'season_year':year}\n",
    "response = requests.get(url, params).json()\n",
    "output_df = pd.DataFrame()\n",
    "\n",
    "for key, value in response.items():\n",
    "        for id,joueur in value.items():\n",
    "            output_df.loc[id,key] = joueur"
   ]
  },
  {
   "cell_type": "code",
   "execution_count": 45,
   "id": "8140cc0c",
   "metadata": {
    "ExecuteTime": {
     "end_time": "2021-09-02T10:26:41.391942Z",
     "start_time": "2021-09-02T10:26:41.375203Z"
    },
    "scrolled": true
   },
   "outputs": [
    {
     "data": {
      "text/html": [
       "<div>\n",
       "<style scoped>\n",
       "    .dataframe tbody tr th:only-of-type {\n",
       "        vertical-align: middle;\n",
       "    }\n",
       "\n",
       "    .dataframe tbody tr th {\n",
       "        vertical-align: top;\n",
       "    }\n",
       "\n",
       "    .dataframe thead th {\n",
       "        text-align: right;\n",
       "    }\n",
       "</style>\n",
       "<table border=\"1\" class=\"dataframe\">\n",
       "  <thead>\n",
       "    <tr style=\"text-align: right;\">\n",
       "      <th></th>\n",
       "      <th>player_name</th>\n",
       "      <th>season_year</th>\n",
       "      <th>value</th>\n",
       "      <th>distance</th>\n",
       "    </tr>\n",
       "  </thead>\n",
       "  <tbody>\n",
       "    <tr>\n",
       "      <th>2737</th>\n",
       "      <td>Memphis Depay</td>\n",
       "      <td>2020-21</td>\n",
       "      <td>2.007621e+07</td>\n",
       "      <td>2.045921</td>\n",
       "    </tr>\n",
       "    <tr>\n",
       "      <th>3323</th>\n",
       "      <td>Raheem Sterling</td>\n",
       "      <td>2020-21</td>\n",
       "      <td>4.407621e+07</td>\n",
       "      <td>2.213528</td>\n",
       "    </tr>\n",
       "    <tr>\n",
       "      <th>2963</th>\n",
       "      <td>Ansgar Knauff</td>\n",
       "      <td>2020-21</td>\n",
       "      <td>-1.000000e+00</td>\n",
       "      <td>2.254828</td>\n",
       "    </tr>\n",
       "    <tr>\n",
       "      <th>3018</th>\n",
       "      <td>Romelu Lukaku</td>\n",
       "      <td>2020-21</td>\n",
       "      <td>1.657621e+07</td>\n",
       "      <td>2.375185</td>\n",
       "    </tr>\n",
       "    <tr>\n",
       "      <th>3345</th>\n",
       "      <td>Karl Toko Ekambi</td>\n",
       "      <td>2020-21</td>\n",
       "      <td>-1.742379e+07</td>\n",
       "      <td>2.418544</td>\n",
       "    </tr>\n",
       "  </tbody>\n",
       "</table>\n",
       "</div>"
      ],
      "text/plain": [
       "           player_name season_year         value  distance\n",
       "2737     Memphis Depay     2020-21  2.007621e+07  2.045921\n",
       "3323   Raheem Sterling     2020-21  4.407621e+07  2.213528\n",
       "2963     Ansgar Knauff     2020-21 -1.000000e+00  2.254828\n",
       "3018     Romelu Lukaku     2020-21  1.657621e+07  2.375185\n",
       "3345  Karl Toko Ekambi     2020-21 -1.742379e+07  2.418544"
      ]
     },
     "execution_count": 45,
     "metadata": {},
     "output_type": "execute_result"
    }
   ],
   "source": [
    "output_df"
   ]
  },
  {
   "cell_type": "code",
   "execution_count": 48,
   "id": "e28ec5aa",
   "metadata": {
    "ExecuteTime": {
     "end_time": "2021-09-02T10:26:49.703171Z",
     "start_time": "2021-09-02T10:26:49.688724Z"
    }
   },
   "outputs": [],
   "source": [
    "player_selected = df[df['player_name']==player].loc[df['season_year']==year,:]"
   ]
  },
  {
   "cell_type": "code",
   "execution_count": 49,
   "id": "2cae2868",
   "metadata": {
    "ExecuteTime": {
     "end_time": "2021-09-02T10:26:50.346515Z",
     "start_time": "2021-09-02T10:26:50.305748Z"
    }
   },
   "outputs": [
    {
     "data": {
      "text/html": [
       "<div>\n",
       "<style scoped>\n",
       "    .dataframe tbody tr th:only-of-type {\n",
       "        vertical-align: middle;\n",
       "    }\n",
       "\n",
       "    .dataframe tbody tr th {\n",
       "        vertical-align: top;\n",
       "    }\n",
       "\n",
       "    .dataframe thead th {\n",
       "        text-align: right;\n",
       "    }\n",
       "</style>\n",
       "<table border=\"1\" class=\"dataframe\">\n",
       "  <thead>\n",
       "    <tr style=\"text-align: right;\">\n",
       "      <th></th>\n",
       "      <th>photo</th>\n",
       "      <th>player_name</th>\n",
       "      <th>season_year</th>\n",
       "      <th>flag</th>\n",
       "      <th>squad</th>\n",
       "      <th>new_league_name</th>\n",
       "      <th>MP</th>\n",
       "      <th>goals</th>\n",
       "      <th>assists</th>\n",
       "      <th>cards_yellow</th>\n",
       "      <th>cards_red</th>\n",
       "      <th>age</th>\n",
       "      <th>position_fifa</th>\n",
       "      <th>value</th>\n",
       "      <th>is_df</th>\n",
       "      <th>is_mf</th>\n",
       "      <th>is_fw</th>\n",
       "    </tr>\n",
       "  </thead>\n",
       "  <tbody>\n",
       "    <tr>\n",
       "      <th>3312</th>\n",
       "      <td>https://cdn.sofifa.com/players/231/747/19_60.png</td>\n",
       "      <td>Kylian Mbappé</td>\n",
       "      <td>2018-19</td>\n",
       "      <td>https://cdn.sofifa.com/flags/fr.png</td>\n",
       "      <td>Paris S-G</td>\n",
       "      <td>French Ligue 1</td>\n",
       "      <td>29</td>\n",
       "      <td>33.0</td>\n",
       "      <td>7.0</td>\n",
       "      <td>5.0</td>\n",
       "      <td>1.0</td>\n",
       "      <td>19</td>\n",
       "      <td>&lt;span class=\"pos pos26\"&gt;LS</td>\n",
       "      <td>82000000.0</td>\n",
       "      <td>0.0</td>\n",
       "      <td>0.0</td>\n",
       "      <td>1.0</td>\n",
       "    </tr>\n",
       "  </tbody>\n",
       "</table>\n",
       "</div>"
      ],
      "text/plain": [
       "                                                 photo    player_name  \\\n",
       "3312  https://cdn.sofifa.com/players/231/747/19_60.png  Kylian Mbappé   \n",
       "\n",
       "     season_year                                 flag      squad  \\\n",
       "3312     2018-19  https://cdn.sofifa.com/flags/fr.png  Paris S-G   \n",
       "\n",
       "     new_league_name  MP  goals  assists  cards_yellow  cards_red  age  \\\n",
       "3312  French Ligue 1  29   33.0      7.0           5.0        1.0   19   \n",
       "\n",
       "                   position_fifa       value  is_df  is_mf  is_fw  \n",
       "3312  <span class=\"pos pos26\">LS  82000000.0    0.0    0.0    1.0  "
      ]
     },
     "execution_count": 49,
     "metadata": {},
     "output_type": "execute_result"
    }
   ],
   "source": [
    "player_selected"
   ]
  },
  {
   "cell_type": "code",
   "execution_count": 50,
   "id": "a882e063",
   "metadata": {
    "ExecuteTime": {
     "end_time": "2021-09-02T10:27:48.057975Z",
     "start_time": "2021-09-02T10:27:48.044380Z"
    }
   },
   "outputs": [
    {
     "data": {
      "text/plain": [
       "3312    https://cdn.sofifa.com/players/231/747/19_60.png\n",
       "Name: photo, dtype: object"
      ]
     },
     "execution_count": 50,
     "metadata": {},
     "output_type": "execute_result"
    }
   ],
   "source": [
    "player_selected['photo']"
   ]
  },
  {
   "cell_type": "code",
   "execution_count": 42,
   "id": "e1ed0fba",
   "metadata": {
    "ExecuteTime": {
     "end_time": "2021-09-02T10:25:31.921342Z",
     "start_time": "2021-09-02T10:25:31.866829Z"
    },
    "scrolled": true
   },
   "outputs": [
    {
     "data": {
      "text/html": [
       "<div>\n",
       "<style scoped>\n",
       "    .dataframe tbody tr th:only-of-type {\n",
       "        vertical-align: middle;\n",
       "    }\n",
       "\n",
       "    .dataframe tbody tr th {\n",
       "        vertical-align: top;\n",
       "    }\n",
       "\n",
       "    .dataframe thead th {\n",
       "        text-align: right;\n",
       "    }\n",
       "</style>\n",
       "<table border=\"1\" class=\"dataframe\">\n",
       "  <thead>\n",
       "    <tr style=\"text-align: right;\">\n",
       "      <th></th>\n",
       "      <th>photo</th>\n",
       "      <th>player_name</th>\n",
       "      <th>season_year</th>\n",
       "      <th>flag</th>\n",
       "      <th>squad</th>\n",
       "      <th>new_league_name</th>\n",
       "      <th>MP</th>\n",
       "      <th>goals</th>\n",
       "      <th>assists</th>\n",
       "      <th>cards_yellow</th>\n",
       "      <th>cards_red</th>\n",
       "      <th>age</th>\n",
       "      <th>position_fifa</th>\n",
       "      <th>value</th>\n",
       "      <th>is_df</th>\n",
       "      <th>is_mf</th>\n",
       "      <th>is_fw</th>\n",
       "    </tr>\n",
       "  </thead>\n",
       "  <tbody>\n",
       "    <tr>\n",
       "      <th>1266</th>\n",
       "      <td>https://cdn.sofifa.com/players/231/747/18_60.png</td>\n",
       "      <td>Kylian Mbappé</td>\n",
       "      <td>2017-18</td>\n",
       "      <td>https://cdn.sofifa.com/flags/fr.png</td>\n",
       "      <td>Paris S-G</td>\n",
       "      <td>French Ligue 1</td>\n",
       "      <td>27</td>\n",
       "      <td>13.0</td>\n",
       "      <td>9.0</td>\n",
       "      <td>2.0</td>\n",
       "      <td>0.0</td>\n",
       "      <td>18</td>\n",
       "      <td>&lt;span class=\"pos pos23\"&gt;RW</td>\n",
       "      <td>47000000.0</td>\n",
       "      <td>0.0</td>\n",
       "      <td>0.0</td>\n",
       "      <td>1.0</td>\n",
       "    </tr>\n",
       "    <tr>\n",
       "      <th>3312</th>\n",
       "      <td>https://cdn.sofifa.com/players/231/747/19_60.png</td>\n",
       "      <td>Kylian Mbappé</td>\n",
       "      <td>2018-19</td>\n",
       "      <td>https://cdn.sofifa.com/flags/fr.png</td>\n",
       "      <td>Paris S-G</td>\n",
       "      <td>French Ligue 1</td>\n",
       "      <td>29</td>\n",
       "      <td>33.0</td>\n",
       "      <td>7.0</td>\n",
       "      <td>5.0</td>\n",
       "      <td>1.0</td>\n",
       "      <td>19</td>\n",
       "      <td>&lt;span class=\"pos pos26\"&gt;LS</td>\n",
       "      <td>82000000.0</td>\n",
       "      <td>0.0</td>\n",
       "      <td>0.0</td>\n",
       "      <td>1.0</td>\n",
       "    </tr>\n",
       "    <tr>\n",
       "      <th>5350</th>\n",
       "      <td>https://cdn.sofifa.com/players/231/747/20_60.png</td>\n",
       "      <td>Kylian Mbappé</td>\n",
       "      <td>2019-20</td>\n",
       "      <td>https://cdn.sofifa.com/flags/fr.png</td>\n",
       "      <td>Paris S-G</td>\n",
       "      <td>French Ligue 1</td>\n",
       "      <td>20</td>\n",
       "      <td>18.0</td>\n",
       "      <td>5.0</td>\n",
       "      <td>0.0</td>\n",
       "      <td>0.0</td>\n",
       "      <td>20</td>\n",
       "      <td>&lt;span class=\"pos pos26\"&gt;LS</td>\n",
       "      <td>93500000.0</td>\n",
       "      <td>0.0</td>\n",
       "      <td>0.0</td>\n",
       "      <td>1.0</td>\n",
       "    </tr>\n",
       "    <tr>\n",
       "      <th>7492</th>\n",
       "      <td>https://cdn.sofifa.com/players/231/747/20_60.png</td>\n",
       "      <td>Kylian Mbappé</td>\n",
       "      <td>2020-21</td>\n",
       "      <td>https://cdn.sofifa.com/flags/fr.png</td>\n",
       "      <td>Paris S-G</td>\n",
       "      <td>French Ligue 1</td>\n",
       "      <td>31</td>\n",
       "      <td>27.0</td>\n",
       "      <td>7.0</td>\n",
       "      <td>5.0</td>\n",
       "      <td>0.0</td>\n",
       "      <td>21</td>\n",
       "      <td>&lt;span class=\"pos pos26\"&gt;LS</td>\n",
       "      <td>105500000.0</td>\n",
       "      <td>0.0</td>\n",
       "      <td>0.0</td>\n",
       "      <td>1.0</td>\n",
       "    </tr>\n",
       "  </tbody>\n",
       "</table>\n",
       "</div>"
      ],
      "text/plain": [
       "                                                 photo    player_name  \\\n",
       "1266  https://cdn.sofifa.com/players/231/747/18_60.png  Kylian Mbappé   \n",
       "3312  https://cdn.sofifa.com/players/231/747/19_60.png  Kylian Mbappé   \n",
       "5350  https://cdn.sofifa.com/players/231/747/20_60.png  Kylian Mbappé   \n",
       "7492  https://cdn.sofifa.com/players/231/747/20_60.png  Kylian Mbappé   \n",
       "\n",
       "     season_year                                 flag      squad  \\\n",
       "1266     2017-18  https://cdn.sofifa.com/flags/fr.png  Paris S-G   \n",
       "3312     2018-19  https://cdn.sofifa.com/flags/fr.png  Paris S-G   \n",
       "5350     2019-20  https://cdn.sofifa.com/flags/fr.png  Paris S-G   \n",
       "7492     2020-21  https://cdn.sofifa.com/flags/fr.png  Paris S-G   \n",
       "\n",
       "     new_league_name  MP  goals  assists  cards_yellow  cards_red  age  \\\n",
       "1266  French Ligue 1  27   13.0      9.0           2.0        0.0   18   \n",
       "3312  French Ligue 1  29   33.0      7.0           5.0        1.0   19   \n",
       "5350  French Ligue 1  20   18.0      5.0           0.0        0.0   20   \n",
       "7492  French Ligue 1  31   27.0      7.0           5.0        0.0   21   \n",
       "\n",
       "                   position_fifa        value  is_df  is_mf  is_fw  \n",
       "1266  <span class=\"pos pos23\">RW   47000000.0    0.0    0.0    1.0  \n",
       "3312  <span class=\"pos pos26\">LS   82000000.0    0.0    0.0    1.0  \n",
       "5350  <span class=\"pos pos26\">LS   93500000.0    0.0    0.0    1.0  \n",
       "7492  <span class=\"pos pos26\">LS  105500000.0    0.0    0.0    1.0  "
      ]
     },
     "execution_count": 42,
     "metadata": {},
     "output_type": "execute_result"
    }
   ],
   "source": [
    "df[df['player_name']=='Kylian Mbappé']"
   ]
  },
  {
   "cell_type": "code",
   "execution_count": 51,
   "id": "48803e76",
   "metadata": {
    "ExecuteTime": {
     "end_time": "2021-09-02T12:30:44.931438Z",
     "start_time": "2021-09-02T12:30:44.677898Z"
    }
   },
   "outputs": [
    {
     "data": {
      "text/html": [
       "<div>\n",
       "<style scoped>\n",
       "    .dataframe tbody tr th:only-of-type {\n",
       "        vertical-align: middle;\n",
       "    }\n",
       "\n",
       "    .dataframe tbody tr th {\n",
       "        vertical-align: top;\n",
       "    }\n",
       "\n",
       "    .dataframe thead th {\n",
       "        text-align: right;\n",
       "    }\n",
       "</style>\n",
       "<table border=\"1\" class=\"dataframe\">\n",
       "  <thead>\n",
       "    <tr style=\"text-align: right;\">\n",
       "      <th></th>\n",
       "      <th>photo</th>\n",
       "      <th>player_name</th>\n",
       "      <th>season_year</th>\n",
       "      <th>flag</th>\n",
       "      <th>squad</th>\n",
       "      <th>new_league_name</th>\n",
       "      <th>MP</th>\n",
       "      <th>goals</th>\n",
       "      <th>assists</th>\n",
       "      <th>cards_yellow</th>\n",
       "      <th>cards_red</th>\n",
       "      <th>age</th>\n",
       "      <th>position_fifa</th>\n",
       "      <th>value</th>\n",
       "      <th>is_df</th>\n",
       "      <th>is_mf</th>\n",
       "      <th>is_fw</th>\n",
       "    </tr>\n",
       "  </thead>\n",
       "  <tbody>\n",
       "    <tr>\n",
       "      <th>3312</th>\n",
       "      <td>https://cdn.sofifa.com/players/231/747/19_60.png</td>\n",
       "      <td>Kylian Mbappé</td>\n",
       "      <td>2018-19</td>\n",
       "      <td>https://cdn.sofifa.com/flags/fr.png</td>\n",
       "      <td>Paris S-G</td>\n",
       "      <td>French Ligue 1</td>\n",
       "      <td>29</td>\n",
       "      <td>33.0</td>\n",
       "      <td>7.0</td>\n",
       "      <td>5.0</td>\n",
       "      <td>1.0</td>\n",
       "      <td>19</td>\n",
       "      <td>&lt;span class=\"pos pos26\"&gt;LS</td>\n",
       "      <td>82000000.0</td>\n",
       "      <td>0.0</td>\n",
       "      <td>0.0</td>\n",
       "      <td>1.0</td>\n",
       "    </tr>\n",
       "  </tbody>\n",
       "</table>\n",
       "</div>"
      ],
      "text/plain": [
       "                                                 photo    player_name  \\\n",
       "3312  https://cdn.sofifa.com/players/231/747/19_60.png  Kylian Mbappé   \n",
       "\n",
       "     season_year                                 flag      squad  \\\n",
       "3312     2018-19  https://cdn.sofifa.com/flags/fr.png  Paris S-G   \n",
       "\n",
       "     new_league_name  MP  goals  assists  cards_yellow  cards_red  age  \\\n",
       "3312  French Ligue 1  29   33.0      7.0           5.0        1.0   19   \n",
       "\n",
       "                   position_fifa       value  is_df  is_mf  is_fw  \n",
       "3312  <span class=\"pos pos26\">LS  82000000.0    0.0    0.0    1.0  "
      ]
     },
     "execution_count": 51,
     "metadata": {},
     "output_type": "execute_result"
    }
   ],
   "source": [
    "player_selected"
   ]
  },
  {
   "cell_type": "code",
   "execution_count": 52,
   "id": "349385ab",
   "metadata": {
    "ExecuteTime": {
     "end_time": "2021-09-02T12:37:06.743274Z",
     "start_time": "2021-09-02T12:37:06.674813Z"
    }
   },
   "outputs": [
    {
     "data": {
      "text/plain": [
       "29"
      ]
     },
     "execution_count": 52,
     "metadata": {},
     "output_type": "execute_result"
    }
   ],
   "source": [
    "player_selected['MP'].to_list()[0]"
   ]
  },
  {
   "cell_type": "code",
   "execution_count": null,
   "id": "c73d31ed",
   "metadata": {
    "collapsed": true
   },
   "outputs": [],
   "source": [
    "questrial"
   ]
  },
  {
   "cell_type": "code",
   "execution_count": 68,
   "id": "e1ec5381",
   "metadata": {
    "ExecuteTime": {
     "end_time": "2021-09-02T13:55:16.547932Z",
     "start_time": "2021-09-02T13:55:16.540269Z"
    }
   },
   "outputs": [
    {
     "data": {
      "text/plain": [
       "'Memphis Depay'"
      ]
     },
     "execution_count": 68,
     "metadata": {},
     "output_type": "execute_result"
    }
   ],
   "source": [
    "output_df['player_name'][0]"
   ]
  },
  {
   "cell_type": "code",
   "execution_count": null,
   "id": "c03540aa",
   "metadata": {},
   "outputs": [],
   "source": []
  }
 ],
 "metadata": {
  "kernelspec": {
   "display_name": "Python 3 (ipykernel)",
   "language": "python",
   "name": "python3"
  },
  "language_info": {
   "codemirror_mode": {
    "name": "ipython",
    "version": 3
   },
   "file_extension": ".py",
   "mimetype": "text/x-python",
   "name": "python",
   "nbconvert_exporter": "python",
   "pygments_lexer": "ipython3",
   "version": "3.8.6"
  },
  "toc": {
   "base_numbering": 1,
   "nav_menu": {},
   "number_sections": true,
   "sideBar": true,
   "skip_h1_title": false,
   "title_cell": "Table of Contents",
   "title_sidebar": "Contents",
   "toc_cell": false,
   "toc_position": {},
   "toc_section_display": true,
   "toc_window_display": false
  }
 },
 "nbformat": 4,
 "nbformat_minor": 5
}
